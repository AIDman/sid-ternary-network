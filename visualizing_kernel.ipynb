{
 "cells": [
  {
   "cell_type": "code",
   "execution_count": 1,
   "metadata": {},
   "outputs": [],
   "source": [
    "import numpy as np\n",
    "import tensorflow as tf\n",
    "import matplotlib.pyplot as plt\n",
    "import matplotlib\n",
    "import matplotlib.gridspec as gridspec\n",
    "    \n",
    "from tensorpack import TowerContext, logger\n",
    "from tensorpack.tfutils import varmanip, get_model_loader\n",
    "from tensorpack.graph_builder.input_source import PlaceholderInput\n",
    "%matplotlib inline"
   ]
  },
  {
   "cell_type": "code",
   "execution_count": 2,
   "metadata": {},
   "outputs": [],
   "source": [
    "ternary_log = 'train_log/sentfilt25_cnn_twnTrue_preload/ternary_weights.npz'\n",
    "reg_meta = 'train_log/sentfilt25_cnn_twnFalse/graph-1021-015614.meta'\n",
    "reg_model = 'train_log/sentfilt25_cnn_twnFalse/min-val-error-top1'"
   ]
  },
  {
   "cell_type": "code",
   "execution_count": 3,
   "metadata": {},
   "outputs": [
    {
     "name": "stdout",
     "output_type": "stream",
     "text": [
      "('wp', 3.077368e-19, 'wn', -3.077368e-19, 'z', -0.0)\n",
      "('wp', 1, 'wn', -1, 'z', 0)\n"
     ]
    }
   ],
   "source": [
    "data = dict(np.load(ternary_log).items())\n",
    "conv_data = data['InferenceTower/conv0/ternarized_W']\n",
    "\n",
    "uniqs = np.unique(conv_data)\n",
    "assert len(uniqs) == 3\n",
    "wn,wp = uniqs[0], uniqs[2]\n",
    "print('wp',wp,'wn', wn, 'z', uniqs[1])\n",
    "\n",
    "norm_conv_data = np.where(conv_data < 0, -1, conv_data)\n",
    "norm_conv_data = np.where(conv_data > 0, 1, norm_conv_data)\n",
    "pic_data = (norm_conv_data[:,:,0,:] + 1.0)/2\n",
    "norm_conv_data = norm_conv_data.astype(int)\n",
    "\n",
    "uniqs = np.unique(norm_conv_data)\n",
    "assert len(uniqs) == 3\n",
    "wn,wp = uniqs[0], uniqs[2]\n",
    "print('wp',wp,'wn',wn, 'z', uniqs[1])"
   ]
  },
  {
   "cell_type": "code",
   "execution_count": 4,
   "metadata": {},
   "outputs": [
    {
     "data": {
      "text/plain": [
       "[(0, 193), (1, 1053), (2, 1058)]"
      ]
     },
     "execution_count": 4,
     "metadata": {},
     "output_type": "execute_result"
    }
   ],
   "source": [
    "# frequency counts\n",
    "tmp = np.where(norm_conv_data < 0, 2, norm_conv_data) # make -1 as 2\n",
    "y = np.bincount(tmp.flatten())\n",
    "ii = np.nonzero(y)[0]\n",
    "zip(ii,y[ii])"
   ]
  },
  {
   "cell_type": "code",
   "execution_count": 5,
   "metadata": {},
   "outputs": [
    {
     "data": {
      "text/plain": [
       "<matplotlib.figure.Figure at 0x7f75cde7b490>"
      ]
     },
     "metadata": {},
     "output_type": "display_data"
    },
    {
     "data": {
      "image/png": "[encoded data removed]",
      "text/plain": [
       "<matplotlib.figure.Figure at 0x7f75cdd24510>"
      ]
     },
     "metadata": {},
     "output_type": "display_data"
    }
   ],
   "source": [
    "num_cols = 6\n",
    "num_rows = 2\n",
    "plt.clf()\n",
    "plt.figure(figsize = (num_cols, num_rows))\n",
    "gs = gridspec.GridSpec(num_rows, num_cols)\n",
    "gs.update(wspace=0.2, hspace=0.2) # set the spacing between axes.\n",
    "for x in range(num_rows):\n",
    "    for y in range(num_cols):\n",
    "        idx = x*num_cols + y\n",
    "        plt.subplot(gs[idx])\n",
    "        plt.imshow(pic_data[:,:,idx], cmap='gray', interpolation='none')\n",
    "        #plt.title(\"Conv0_%d\" % (idx,))\n",
    "        plt.axis('off')\n",
    "plt.show()"
   ]
  },
  {
   "cell_type": "code",
   "execution_count": 6,
   "metadata": {},
   "outputs": [
    {
     "name": "stdout",
     "output_type": "stream",
     "text": [
      "\u001b[32m[1025 21:44:52 @sessinit.py:119]\u001b[0m Restoring checkpoint from train_log/sentfilt25_cnn_twnFalse/min-val-error-top1 ...\n",
      "INFO:tensorflow:Restoring parameters from train_log/sentfilt25_cnn_twnFalse/min-val-error-top1\n",
      "\u001b[32m[1025 21:44:53 @varmanip.py:128]\u001b[0m Variables to save to /tmp/params.npz:\n",
      "\u001b[32m[1025 21:44:53 @varmanip.py:130]\u001b[0m [u'conv0/W:0',\n",
      " u'conv0/bn/beta:0',\n",
      " u'conv0/bn/gamma:0',\n",
      " u'conv0/bn/mean/EMA:0',\n",
      " u'conv0/bn/variance/EMA:0',\n",
      " u'last_linear/W:0',\n",
      " u'last_linear/b:0',\n",
      " u'linear0/W:0',\n",
      " u'linear0/b:0',\n",
      " u'linear0/bn/beta:0',\n",
      " u'linear0/bn/gamma:0',\n",
      " u'linear0/bn/mean/EMA:0',\n",
      " u'linear0/bn/variance/EMA:0',\n",
      " u'linear1/W:0',\n",
      " u'linear1/b:0',\n",
      " u'linear1/bn/beta:0',\n",
      " u'linear1/bn/gamma:0',\n",
      " u'linear1/bn/mean/EMA:0',\n",
      " u'linear1/bn/variance/EMA:0',\n",
      " u'linear2/W:0',\n",
      " u'linear2/b:0',\n",
      " u'linear2/bn/beta:0',\n",
      " u'linear2/bn/gamma:0',\n",
      " u'linear2/bn/mean/EMA:0',\n",
      " u'linear2/bn/variance/EMA:0']\n"
     ]
    }
   ],
   "source": [
    "with tf.Graph().as_default() as G:\n",
    "    tf.train.import_meta_graph(reg_meta)\n",
    "    init = get_model_loader(reg_model)\n",
    "    sess = tf.Session(config=tf.ConfigProto(allow_soft_placement=True))\n",
    "    sess.run(tf.global_variables_initializer())\n",
    "    init.init(sess)\n",
    "\n",
    "    with sess.as_default():\n",
    "        varmanip.dump_session_params('/tmp/params.npz')\n",
    "\n",
    "data = dict(np.load('/tmp/params.npz').items())\n",
    "conv_data = data['conv0/W:0'][:,:,0,:]"
   ]
  },
  {
   "cell_type": "code",
   "execution_count": 7,
   "metadata": {},
   "outputs": [],
   "source": [
    "mi = np.min(conv_data)\n",
    "ma = np.max(conv_data)\n",
    "rang = ma - mi\n",
    "reg_norm_conv_data = (conv_data - mi)/rang"
   ]
  },
  {
   "cell_type": "code",
   "execution_count": 8,
   "metadata": {},
   "outputs": [
    {
     "data": {
      "text/plain": [
       "<matplotlib.figure.Figure at 0x7f75cda67850>"
      ]
     },
     "metadata": {},
     "output_type": "display_data"
    },
    {
     "data": {
      "image/png": "[encoded data removed]",
      "text/plain": [
       "<matplotlib.figure.Figure at 0x7f75c7469c50>"
      ]
     },
     "metadata": {},
     "output_type": "display_data"
    }
   ],
   "source": [
    "num_cols = 6\n",
    "num_rows = 2\n",
    "plt.clf()\n",
    "plt.figure(figsize = (num_cols, num_rows))\n",
    "gs = gridspec.GridSpec(num_rows, num_cols)\n",
    "gs.update(wspace=0.2, hspace=0.2) # set the spacing between axes.\n",
    "for x in range(num_rows):\n",
    "    for y in range(num_cols):\n",
    "        idx = x*num_cols + y\n",
    "        plt.subplot(gs[idx])\n",
    "        plt.imshow(reg_norm_conv_data[:,:,idx], cmap='gray', interpolation='none')\n",
    "        #plt.title(\"Conv0_%d\" % (idx,))\n",
    "        plt.axis('off')\n",
    "plt.show()"
   ]
  },
  {
   "cell_type": "code",
   "execution_count": 9,
   "metadata": {},
   "outputs": [],
   "source": [
    "tern_conv_data = np.ones(conv_data.shape)\n",
    "\n",
    "for i in range(16):\n",
    "    curr_filt = conv_data[:,:,i]\n",
    "    thre_x = np.max(np.abs(curr_filt))*0.05\n",
    "    shape = curr_filt.shape\n",
    "    mask = np.ones(shape)\n",
    "    mask_p = np.where(curr_filt > thre_x, np.ones(shape) * 1, mask)\n",
    "    mask_np = np.where(curr_filt < -thre_x, np.ones(shape) * 1, mask_p)\n",
    "    mask_z = np.where((curr_filt < thre_x) & (curr_filt > - thre_x), np.zeros(shape), mask)\n",
    "    tern_curr_filt =  np.sign(curr_filt) * mask_z\n",
    "    tern_curr_filt = tern_curr_filt * mask_np\n",
    "    tern_curr_filt = (tern_curr_filt + 1.0)/2\n",
    "    tern_conv_data[:,:,i] = tern_curr_filt\n",
    "# "
   ]
  },
  {
   "cell_type": "code",
   "execution_count": 157,
   "metadata": {},
   "outputs": [
    {
     "data": {
      "text/plain": [
       "array([[ 1. ,  0. ,  0. ,  1. ,  1. ,  1. ,  1. ,  1. ,  0. ,  0. ,  1. ,\n",
       "         0. ],\n",
       "       [ 1. ,  0. ,  0. ,  0. ,  1. ,  0. ,  0.5,  1. ,  0.5,  0. ,  0. ,\n",
       "         0. ],\n",
       "       [ 0. ,  0.5,  0. ,  1. ,  1. ,  1. ,  1. ,  1. ,  0. ,  0.5,  1. ,\n",
       "         0. ],\n",
       "       [ 1. ,  0. ,  1. ,  1. ,  1. ,  1. ,  1. ,  0. ,  0. ,  0. ,  1. ,\n",
       "         1. ],\n",
       "       [ 1. ,  0. ,  0. ,  0. ,  1. ,  0.5,  0. ,  0.5,  1. ,  1. ,  0. ,\n",
       "         0. ],\n",
       "       [ 1. ,  0.5,  1. ,  1. ,  0. ,  1. ,  0. ,  0. ,  0. ,  0.5,  1. ,\n",
       "         0. ],\n",
       "       [ 0. ,  1. ,  1. ,  1. ,  0. ,  1. ,  1. ,  1. ,  1. ,  0. ,  0. ,\n",
       "         1. ],\n",
       "       [ 0. ,  1. ,  0. ,  1. ,  0. ,  0. ,  0. ,  1. ,  0. ,  0. ,  1. ,\n",
       "         0. ],\n",
       "       [ 0. ,  1. ,  1. ,  0.5,  1. ,  1. ,  0.5,  1. ,  1. ,  0. ,  0. ,\n",
       "         0. ],\n",
       "       [ 0. ,  0. ,  1. ,  0.5,  1. ,  0. ,  0. ,  0. ,  1. ,  0. ,  1. ,\n",
       "         1. ],\n",
       "       [ 0. ,  1. ,  0. ,  0. ,  1. ,  0. ,  1. ,  1. ,  1. ,  1. ,  1. ,\n",
       "         0. ],\n",
       "       [ 1. ,  0.5,  1. ,  1. ,  1. ,  0. ,  1. ,  1. ,  0. ,  1. ,  1. ,\n",
       "         1. ]])"
      ]
     },
     "execution_count": 157,
     "metadata": {},
     "output_type": "execute_result"
    }
   ],
   "source": [
    "# conv_data[:,:,0], thre_x\n",
    "tern_curr_filt"
   ]
  },
  {
   "cell_type": "code",
   "execution_count": 10,
   "metadata": {},
   "outputs": [
    {
     "data": {
      "text/plain": [
       "<matplotlib.figure.Figure at 0x7f75cd7d0fd0>"
      ]
     },
     "metadata": {},
     "output_type": "display_data"
    },
    {
     "data": {
      "image/png": "[encoded data removed]",
      "text/plain": [
       "<matplotlib.figure.Figure at 0x7f75cd7d0a10>"
      ]
     },
     "metadata": {},
     "output_type": "display_data"
    }
   ],
   "source": [
    "num_cols = 6\n",
    "num_rows = 2\n",
    "plt.clf()\n",
    "plt.figure(figsize = (num_cols, num_rows))\n",
    "gs = gridspec.GridSpec(num_rows, num_cols)\n",
    "gs.update(wspace=0.2, hspace=0.2) # set the spacing between axes.\n",
    "for x in range(num_rows):\n",
    "    for y in range(num_cols):\n",
    "        idx = x*num_cols + y\n",
    "        plt.subplot(gs[idx])\n",
    "        plt.imshow(tern_conv_data[:,:,idx], cmap='gray', interpolation='none')\n",
    "        #plt.title(\"Conv0_%d\" % (idx,))\n",
    "        plt.axis('off')\n",
    "plt.show()"
   ]
  },
  {
   "cell_type": "code",
   "execution_count": 32,
   "metadata": {},
   "outputs": [
    {
     "data": {
      "text/plain": [
       "<matplotlib.figure.Figure at 0x7f75cdce7910>"
      ]
     },
     "metadata": {},
     "output_type": "display_data"
    },
    {
     "data": {
      "image/png": "[encoded data removed]",
      "text/plain": [
       "<matplotlib.figure.Figure at 0x7f75cdce7290>"
      ]
     },
     "metadata": {},
     "output_type": "display_data"
    }
   ],
   "source": [
    "plt.clf()\n",
    "num_cols = 6\n",
    "num_rows = 3\n",
    "fig = plt.figure(figsize = (num_cols, num_rows))\n",
    "gs = gridspec.GridSpec(num_rows, num_cols)\n",
    "gs.update(wspace=0.2, hspace=0.2) # set the spacing between axes.\n",
    "for x in range(num_rows):\n",
    "    for y in range(num_cols):\n",
    "        idx = x*num_cols + y\n",
    "        plt.subplot(gs[idx])\n",
    "        if x == 0:\n",
    "            dat = reg_norm_conv_data\n",
    "        elif x == 1:\n",
    "            dat = tern_conv_data\n",
    "        elif x == 2:\n",
    "            dat = pic_data\n",
    "        plt.imshow(dat[:,:,num_cols + y], cmap='gray', interpolation='none')\n",
    "        plt.axis('off')\n",
    "fig.text(0.1, 0.5, '  Ab Initio      Initialized      Original', va='center', rotation='vertical')\n",
    "fig.text(0.07, 0.5, '    TTQ             TTQ           Full-Prec', va='center', rotation='vertical')\n",
    "plt.show()"
   ]
  },
  {
   "cell_type": "code",
   "execution_count": 37,
   "metadata": {},
   "outputs": [
    {
     "data": {
      "text/plain": [
       "0.55078125"
      ]
     },
     "execution_count": 37,
     "metadata": {},
     "output_type": "execute_result"
    }
   ],
   "source": [
    "np.count_nonzero(tern_conv_data)/(0.0 + np.prod(tern_conv_data.shape))"
   ]
  },
  {
   "cell_type": "code",
   "execution_count": 38,
   "metadata": {},
   "outputs": [
    {
     "data": {
      "text/plain": [
       "0.5407986111111112"
      ]
     },
     "execution_count": 38,
     "metadata": {},
     "output_type": "execute_result"
    }
   ],
   "source": [
    "np.count_nonzero(pic_data)/(0.0 + np.prod(tern_conv_data.shape))"
   ]
  }
 ],
 "metadata": {
  "kernelspec": {
   "display_name": "Python 2",
   "language": "python",
   "name": "python2"
  },
  "language_info": {
   "codemirror_mode": {
    "name": "ipython",
    "version": 2
   },
   "file_extension": ".py",
   "mimetype": "text/x-python",
   "name": "python",
   "nbconvert_exporter": "python",
   "pygments_lexer": "ipython2",
   "version": "2.7.6"
  }
 },
 "nbformat": 4,
 "nbformat_minor": 2
}
